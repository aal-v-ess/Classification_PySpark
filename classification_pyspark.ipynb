{
 "cells": [
  {
   "cell_type": "markdown",
   "metadata": {
    "id": "hpd5K0PV6UGA"
   },
   "source": [
    "# Imports"
   ]
  },
  {
   "cell_type": "code",
   "execution_count": 1,
   "metadata": {
    "colab": {
     "base_uri": "https://localhost:8080/"
    },
    "executionInfo": {
     "elapsed": 50454,
     "status": "ok",
     "timestamp": 1708875518111,
     "user": {
      "displayName": "Miguel Alves",
      "userId": "04559027817788476585"
     },
     "user_tz": 0
    },
    "id": "Jx_ZMA3egw1j",
    "outputId": "6f8836a0-b30c-4ff0-f619-ee3d25d9b681"
   },
   "outputs": [
    {
     "name": "stdout",
     "output_type": "stream",
     "text": [
      "Collecting pyspark\n",
      "  Downloading pyspark-3.5.0.tar.gz (316.9 MB)\n",
      "\u001b[2K     \u001b[90m━━━━━━━━━━━━━━━━━━━━━━━━━━━━━━━━━━━━━━━━\u001b[0m \u001b[32m316.9/316.9 MB\u001b[0m \u001b[31m4.0 MB/s\u001b[0m eta \u001b[36m0:00:00\u001b[0m\n",
      "\u001b[?25h  Preparing metadata (setup.py) ... \u001b[?25l\u001b[?25hdone\n",
      "Requirement already satisfied: py4j==0.10.9.7 in /usr/local/lib/python3.10/dist-packages (from pyspark) (0.10.9.7)\n",
      "Building wheels for collected packages: pyspark\n",
      "  Building wheel for pyspark (setup.py) ... \u001b[?25l\u001b[?25hdone\n",
      "  Created wheel for pyspark: filename=pyspark-3.5.0-py2.py3-none-any.whl size=317425345 sha256=fe411525d5c060d814648c79371d2c44bdef10bdd8e60178293c5e449eba92a9\n",
      "  Stored in directory: /root/.cache/pip/wheels/41/4e/10/c2cf2467f71c678cfc8a6b9ac9241e5e44a01940da8fbb17fc\n",
      "Successfully built pyspark\n",
      "Installing collected packages: pyspark\n",
      "Successfully installed pyspark-3.5.0\n"
     ]
    }
   ],
   "source": [
    "!pip install pyspark"
   ]
  },
  {
   "cell_type": "code",
   "execution_count": 2,
   "metadata": {
    "executionInfo": {
     "elapsed": 716,
     "status": "ok",
     "timestamp": 1708875518823,
     "user": {
      "displayName": "Miguel Alves",
      "userId": "04559027817788476585"
     },
     "user_tz": 0
    },
    "id": "QrDBYbqChDe9"
   },
   "outputs": [],
   "source": [
    "import pandas as pd"
   ]
  },
  {
   "cell_type": "code",
   "execution_count": 3,
   "metadata": {
    "executionInfo": {
     "elapsed": 376,
     "status": "ok",
     "timestamp": 1708875519197,
     "user": {
      "displayName": "Miguel Alves",
      "userId": "04559027817788476585"
     },
     "user_tz": 0
    },
    "id": "YzpwLyPuhOz3"
   },
   "outputs": [],
   "source": [
    "from pyspark.sql import SparkSession\n",
    "from pyspark.sql.types import StructType, StructField, StringType, IntegerType, FloatType, DoubleType\n",
    "from pyspark.sql.functions import col, expr, round, mean, when\n",
    "import pyspark.sql.functions as F\n",
    "from pyspark.sql.window import Window\n",
    "from pyspark.ml.feature import StringIndexer, Word2Vec, VectorAssembler\n",
    "from pyspark.ml.classification import RandomForestClassifier\n",
    "from pyspark.ml.evaluation import BinaryClassificationEvaluator\n",
    "from pyspark.ml.feature import Tokenizer\n",
    "from pyspark.ml import Pipeline\n",
    "from pyspark.ml.evaluation import MulticlassClassificationEvaluator"
   ]
  },
  {
   "cell_type": "markdown",
   "metadata": {
    "id": "anq33fmP6Xya"
   },
   "source": [
    "# Create Spark Session"
   ]
  },
  {
   "cell_type": "code",
   "execution_count": null,
   "metadata": {
    "executionInfo": {
     "elapsed": 12166,
     "status": "ok",
     "timestamp": 1708875531361,
     "user": {
      "displayName": "Miguel Alves",
      "userId": "04559027817788476585"
     },
     "user_tz": 0
    },
    "id": "D_mIWZO1hR1k"
   },
   "outputs": [],
   "source": [
    "spark = SparkSession.builder \\\n",
    "    .master(\"local\") \\\n",
    "    .appName(\"Classification\") \\\n",
    "    .config(\"spark.some.config.option\", \"some-value\") \\\n",
    "    .getOrCreate()"
   ]
  },
  {
   "cell_type": "markdown",
   "metadata": {
    "id": "40xF82FX6dze"
   },
   "source": [
    "# Read data"
   ]
  },
  {
   "cell_type": "code",
   "execution_count": 10,
   "metadata": {
    "colab": {
     "base_uri": "https://localhost:8080/"
    },
    "executionInfo": {
     "elapsed": 1509,
     "status": "ok",
     "timestamp": 1708875612451,
     "user": {
      "displayName": "Miguel Alves",
      "userId": "04559027817788476585"
     },
     "user_tz": 0
    },
    "id": "4r2kXhchgv7y",
    "outputId": "4cc16224-fd7e-4872-90ea-9bee688cb80b"
   },
   "outputs": [
    {
     "name": "stderr",
     "output_type": "stream",
     "text": [
      "<ipython-input-10-db2642e3d342>:2: DtypeWarning: Columns (45,46,49,50) have mixed types. Specify dtype option on import or set low_memory=False.\n",
      "  df_pandas = pd.read_csv(\"df_pyspark.csv\")\n"
     ]
    },
    {
     "data": {
      "text/plain": [
       "Index(['row.names', 'MM.code', 'Mesc.Code', 'Short.description', 'Deleted.',\n",
       "       'Stock.Non.stock', 'Material.type.description', 'ABC.indicator',\n",
       "       'Criticality', 'Repairable.Not.Repairable', 'BOM.Linkage',\n",
       "       'Total.Installed.Qty', 'Criticality.based.on.Location', 'Column1',\n",
       "       'Installed.QTY.under.Critical.Equipment',\n",
       "       'Plant.section.of.installed.equipment', 'PM.task.list', 'PSGC.Descrp.1',\n",
       "       'PSGC.Descrp.2', 'Discipline', 'Category', 'MM.Group',\n",
       "       'Disciplines.for.Stock.changes', 'OSR', 'PDT', 'GR', 'Sap.lead.time',\n",
       "       'AVG.historical.LT', 'MAX.historical.LT', 'MIN.historical.LT',\n",
       "       'Last.PO.number', 'Last.PO.Date', 'PO.number', 'LT.accuracy',\n",
       "       'Manufacturer.number', 'Vendor', 'OA', 'OA.start.date', 'OA.end.date',\n",
       "       'OA.validity', 'Consumption..blank..2010.2021',\n",
       "       'Consumed.under.High.critical.WO.share', 'Emergency',\n",
       "       'Schedule.Breaker', 'DISP.Qty.', 'DISP.Value.USD.', 'SOLD.Qty.',\n",
       "       'SOLD.Value.USD.', 'Total.Disposal.Qty.', 'Final.Disposal.Value.USD.',\n",
       "       'Dormant.Review.History', 'Number.of.reviews.in.tracker',\n",
       "       'Latest.review.Date'],\n",
       "      dtype='object')"
      ]
     },
     "execution_count": 10,
     "metadata": {},
     "output_type": "execute_result"
    }
   ],
   "source": [
    "# Read dataframe from connection because notebook was developed in Google Collab and not locally\n",
    "df_pandas = pd.read_csv(\"df_pyspark.csv\")\n",
    "df_pandas = df_pandas.drop([\"Unnamed: 0\"], axis=1)\n",
    "df_pandas.columns"
   ]
  },
  {
   "cell_type": "code",
   "execution_count": 11,
   "metadata": {
    "colab": {
     "base_uri": "https://localhost:8080/"
    },
    "executionInfo": {
     "elapsed": 7424,
     "status": "ok",
     "timestamp": 1708875621835,
     "user": {
      "displayName": "Miguel Alves",
      "userId": "04559027817788476585"
     },
     "user_tz": 0
    },
    "id": "NKbvAcyyg0Iq",
    "outputId": "208bf5a3-1d40-469a-915c-8aa6e4648432"
   },
   "outputs": [
    {
     "name": "stdout",
     "output_type": "stream",
     "text": [
      "root\n",
      " |-- row_names: string (nullable = true)\n",
      " |-- MM_code: integer (nullable = true)\n",
      " |-- Mesc_Code: string (nullable = true)\n",
      " |-- Short_description: string (nullable = true)\n",
      " |-- Deleted: string (nullable = true)\n",
      " |-- Stock_Non_stock: string (nullable = true)\n",
      " |-- Material_type_description: string (nullable = true)\n",
      " |-- ABC_indicator: string (nullable = true)\n",
      " |-- Criticality: string (nullable = true)\n",
      " |-- Repairable_Not_Repairable: string (nullable = true)\n",
      " |-- BOM_Linkage: string (nullable = true)\n",
      " |-- Total_Installed_Qty: float (nullable = true)\n",
      " |-- Criticality_based_on_Location: string (nullable = true)\n",
      " |-- Column1: string (nullable = true)\n",
      " |-- Installed_QTY_under_Critical_Equipment: float (nullable = true)\n",
      " |-- Plant_section_of_installed_equipment: string (nullable = true)\n",
      " |-- PM_task_list: string (nullable = true)\n",
      " |-- PSGC_Descrp_1: string (nullable = true)\n",
      " |-- PSGC_Descrp_2: string (nullable = true)\n",
      " |-- Discipline: string (nullable = true)\n",
      " |-- Category: string (nullable = true)\n",
      " |-- MM_Group: string (nullable = true)\n",
      " |-- Disciplines_for_Stock_changes: string (nullable = true)\n",
      " |-- OSR: string (nullable = true)\n",
      " |-- PDT: integer (nullable = true)\n",
      " |-- GR: integer (nullable = true)\n",
      " |-- Sap_lead_time: integer (nullable = true)\n",
      " |-- AVG_historical_LT: float (nullable = true)\n",
      " |-- MAX_historical_LT: float (nullable = true)\n",
      " |-- MIN_historical_LT: float (nullable = true)\n",
      " |-- Last_PO_number: float (nullable = true)\n",
      " |-- Last_PO_Date: string (nullable = true)\n",
      " |-- PO_number: float (nullable = true)\n",
      " |-- LT_accuracy: string (nullable = true)\n",
      " |-- Manufacturer_number: float (nullable = true)\n",
      " |-- Vendor: string (nullable = true)\n",
      " |-- OA: float (nullable = true)\n",
      " |-- OA_start_date: string (nullable = true)\n",
      " |-- OA_end_date: string (nullable = true)\n",
      " |-- OA_validity: string (nullable = true)\n",
      " |-- Consumption_blank_2010_2021: float (nullable = true)\n",
      " |-- Consumed_under_High_critical_WO_share: string (nullable = true)\n",
      " |-- Emergency: float (nullable = true)\n",
      " |-- Schedule_Breaker: float (nullable = true)\n",
      " |-- DISP_Qty: string (nullable = true)\n",
      " |-- DISP_Value_USD: string (nullable = true)\n",
      " |-- SOLD_Qty: string (nullable = true)\n",
      " |-- SOLD_Value_USD: string (nullable = true)\n",
      " |-- Total_Disposal_Qty: string (nullable = true)\n",
      " |-- Final_Disposal_Value_USD: string (nullable = true)\n",
      " |-- Dormant_Review_History: string (nullable = true)\n",
      " |-- Number_of_reviews_in_tracker: float (nullable = true)\n",
      " |-- Latest_review_Date: float (nullable = true)\n",
      "\n"
     ]
    }
   ],
   "source": [
    "# Define the schema for PySpark DataFrame\n",
    "schema = StructType([\n",
    "    StructField(\"row_names\", StringType(), True),\n",
    "    StructField(\"MM_code\", IntegerType(), True),\n",
    "    StructField(\"Mesc_Code\", StringType(), True),\n",
    "    StructField(\"Short_description\", StringType(), True),\n",
    "    StructField(\"Deleted\", StringType(), True),\n",
    "    StructField(\"Stock_Non_stock\", StringType(), True),\n",
    "    StructField(\"Material_type_description\", StringType(), True),\n",
    "    StructField(\"ABC_indicator\", StringType(), True),\n",
    "    StructField(\"Criticality\", StringType(), True),\n",
    "    StructField(\"Repairable_Not_Repairable\", StringType(), True),\n",
    "    StructField(\"BOM_Linkage\", StringType(), True),\n",
    "    StructField(\"Total_Installed_Qty\", FloatType(), True),\n",
    "    StructField(\"Criticality_based_on_Location\", StringType(), True),\n",
    "    StructField(\"Column1\", StringType(), True),\n",
    "    StructField(\"Installed_QTY_under_Critical_Equipment\", FloatType(), True),\n",
    "    StructField(\"Plant_section_of_installed_equipment\", StringType(), True),\n",
    "    StructField(\"PM_task_list\", StringType(), True),\n",
    "    StructField(\"PSGC_Descrp_1\", StringType(), True),\n",
    "    StructField(\"PSGC_Descrp_2\", StringType(), True),\n",
    "    StructField(\"Discipline\", StringType(), True),\n",
    "    StructField(\"Category\", StringType(), True),\n",
    "    StructField(\"MM_Group\", StringType(), True),\n",
    "    StructField(\"Disciplines_for_Stock_changes\", StringType(), True),\n",
    "    StructField(\"OSR\", StringType(), True),\n",
    "    StructField(\"PDT\", IntegerType(), True),\n",
    "    StructField(\"GR\", IntegerType(), True),\n",
    "    StructField(\"Sap_lead_time\", IntegerType(), True),\n",
    "    StructField(\"AVG_historical_LT\", FloatType(), True),\n",
    "    StructField(\"MAX_historical_LT\", FloatType(), True),\n",
    "    StructField(\"MIN_historical_LT\", FloatType(), True),\n",
    "    StructField(\"Last_PO_number\", FloatType(), True),\n",
    "    StructField(\"Last_PO_Date\", StringType(), True),\n",
    "    StructField(\"PO_number\", FloatType(), True),\n",
    "    StructField(\"LT_accuracy\", StringType(), True),\n",
    "    StructField(\"Manufacturer_number\", FloatType(), True),\n",
    "    StructField(\"Vendor\", StringType(), True),\n",
    "    StructField(\"OA\", FloatType(), True),\n",
    "    StructField(\"OA_start_date\", StringType(), True),\n",
    "    StructField(\"OA_end_date\", StringType(), True),\n",
    "    StructField(\"OA_validity\", StringType(), True),\n",
    "    StructField(\"Consumption_blank_2010_2021\", FloatType(), True),\n",
    "    StructField(\"Consumed_under_High_critical_WO_share\", StringType(), True),\n",
    "    StructField(\"Emergency\", FloatType(), True),\n",
    "    StructField(\"Schedule_Breaker\", FloatType(), True),\n",
    "    StructField(\"DISP_Qty\", StringType(), True),\n",
    "    StructField(\"DISP_Value_USD\", StringType(), True),\n",
    "    StructField(\"SOLD_Qty\", StringType(), True),\n",
    "    StructField(\"SOLD_Value_USD\", StringType(), True),\n",
    "    StructField(\"Total_Disposal_Qty\", StringType(), True),\n",
    "    StructField(\"Final_Disposal_Value_USD\", StringType(), True),\n",
    "    StructField(\"Dormant_Review_History\", StringType(), True),\n",
    "    StructField(\"Number_of_reviews_in_tracker\", FloatType(), True),\n",
    "    StructField(\"Latest_review_Date\", FloatType(), True)\n",
    "])\n",
    "\n",
    "# Rename columns in pandas DataFrame\n",
    "df_pandas.columns = [col.replace(\".\", \"_\") for col in df_pandas.columns]\n",
    "\n",
    "# Create PySpark DataFrame\n",
    "df = spark.createDataFrame(df_pandas, schema=schema)\n",
    "df.printSchema()\n"
   ]
  },
  {
   "cell_type": "code",
   "execution_count": 12,
   "metadata": {
    "colab": {
     "base_uri": "https://localhost:8080/"
    },
    "executionInfo": {
     "elapsed": 11157,
     "status": "ok",
     "timestamp": 1708875638027,
     "user": {
      "displayName": "Miguel Alves",
      "userId": "04559027817788476585"
     },
     "user_tz": 0
    },
    "id": "Ce_EYZmWg0Fh",
    "outputId": "33fd171e-fabb-47a3-ea4c-62aff54e2360"
   },
   "outputs": [
    {
     "name": "stdout",
     "output_type": "stream",
     "text": [
      "+---------+--------+---------+--------------------+-------+---------------+-------------------------+-------------+-------------------+-------------------------+-----------------+-------------------+-----------------------------+-------+--------------------------------------+------------------------------------+---------------+--------------------+--------------------+---------------+---------------+---------------+-----------------------------+---------+---+---+-------------+-----------------+-----------------+-----------------+--------------+------------+---------+--------------------+-------------------+---------+-----------+-------------------+-------------------+-----------+---------------------------+-------------------------------------+---------+----------------+--------+--------------+--------+--------------+------------------+------------------------+----------------------+----------------------------+------------------+\n",
      "|row_names| MM_code|Mesc_Code|   Short_description|Deleted|Stock_Non_stock|Material_type_description|ABC_indicator|        Criticality|Repairable_Not_Repairable|      BOM_Linkage|Total_Installed_Qty|Criticality_based_on_Location|Column1|Installed_QTY_under_Critical_Equipment|Plant_section_of_installed_equipment|   PM_task_list|       PSGC_Descrp_1|       PSGC_Descrp_2|     Discipline|       Category|       MM_Group|Disciplines_for_Stock_changes|      OSR|PDT| GR|Sap_lead_time|AVG_historical_LT|MAX_historical_LT|MIN_historical_LT|Last_PO_number|Last_PO_Date|PO_number|         LT_accuracy|Manufacturer_number|   Vendor|         OA|      OA_start_date|        OA_end_date|OA_validity|Consumption_blank_2010_2021|Consumed_under_High_critical_WO_share|Emergency|Schedule_Breaker|DISP_Qty|DISP_Value_USD|SOLD_Qty|SOLD_Value_USD|Total_Disposal_Qty|Final_Disposal_Value_USD|Dormant_Review_History|Number_of_reviews_in_tracker|Latest_review_Date|\n",
      "+---------+--------+---------+--------------------+-------+---------------+-------------------------+-------------+-------------------+-------------------------+-----------------+-------------------+-----------------------------+-------+--------------------------------------+------------------------------------+---------------+--------------------+--------------------+---------------+---------------+---------------+-----------------------------+---------+---+---+-------------+-----------------+-----------------+-----------------+--------------+------------+---------+--------------------+-------------------+---------+-----------+-------------------+-------------------+-----------+---------------------------+-------------------------------------+---------+----------------+--------+--------------+--------+--------------+------------------+------------------------+----------------------+----------------------------+------------------+\n",
      "|        1|10571456|      NaN|SEAT RING,9G-BX2D...|     No|          Stock|              Spare Parts|            B|Production critical|           Not Repairable|    Linked to BOM|               24.0|          Production critical|    Yes|                                   6.0|                                 OFF|              0|PARTS,VLV & ACTUATOR|PROPRIETARY PARTS...|     Mechanical|     Mechanical|      SEAT RING|                   Mechanical|OSR - PCE|156|  2|          158|              NaN|              NaN|              NaN|           NaN|         NaN|      NaN|                 NaN|          4003800.0| vendor_0|        NaN|                NaN|                NaN|        NaN|                        0.0|                                    0|      0.0|             0.0|       0|             0|     NaN|           NaN|                 0|                       0|                     0|                         0.0|               0.0|\n",
      "|        2|10552541|      NaN|ELEMENT,FILTER,25...|     No|          Stock|              Spare Parts|            A|    Safety critical|           Not Repairable|    Linked to BOM|                6.0|              Safety critical|    Yes|                                   2.0|                                 FGP|              0|    PARTS,PLANT EQPT|PROPRIETARY PARTS...|     Mechanical|     Mechanical|        ELEMENT|                   Mechanical|        0| 54|  3|           57|              NaN|              NaN|              NaN|   4.5000105E9|  02.05.2011|      NaN|                 NaN|          4003054.0| vendor_1|        NaN|                NaN|                NaN|        NaN|                        0.0|                                  0,2|      0.0|             1.0|       0|             0|     NaN|           NaN|                 0|                       0|                     0|                         0.0|               0.0|\n",
      "|        3|10563713|      NaN|                 NaN|     No|      Non-stock|              Spare Parts|            C|       Non-critical|           Not Repairable|Not linked to BOM|                NaN|                          NaN|     No|                                   NaN|                                 NaN|              0|  FILTER & COMPONENT|  FILTER & COMPONENT|     Mechanical|     Mechanical|        ELEMENT|                   Mechanical|        0| 26|  3|           29|              NaN|              NaN|              NaN|   4.5000351E9|  14.11.2013|      NaN|                 NaN|          4004434.0| vendor_2|4.6000031E9|2020-05-10 00:00:00|2025-05-09 00:00:00|      valid|                        0.0|                                    0|      0.0|             0.0|       0|             0|     NaN|           NaN|                 0|                       0|               Phase 4|                         1.0|           44470.0|\n",
      "|        4|10561355|      NaN|DRY GAS SEAL,5113...|     No|      Non-stock|              Spare Parts|            B|Production critical|           Not Repairable|    Linked to BOM|               22.0|          Production critical|    Yes|                                  18.0|                             FGP;GTL|              0|    PARTS,COMPRESSOR|PROPRIETARY PARTS...|       Rotating|       Rotating|   DRY GAS SEAL|                     Rotating|OSR - PCE|112|  2|          114|              NaN|              NaN|              NaN|   4.5000259E9|  30.12.2012|      NaN|                 NaN|          4003206.0| vendor_3|        NaN|                NaN|                NaN|        NaN|                        0.0|                                    0|      0.0|             2.0|       0|             0|     NaN|           NaN|                 0|                       0|                     0|                         1.0|           44287.0|\n",
      "|        5|10690481|      NaN|REFRACTORY,DURITA...|     No|          Stock|              Spare Parts|            B|Production critical|           Not Repairable|    Linked to BOM|            94500.0|          Production critical|    Yes|                                  18.0|                                 GTL|              0|  BRICKS, REFRACTORY|  BRICKS, REFRACTORY|          Civil|          Civil|     REFRACTORY|                        Civil|        0|294| 51|          345|            242.0|            443.0|            105.0|   4.5001503E9|  23.01.2023|     17.0|                 NaN|          4003682.0| vendor_4|4.6000031E9|2020-04-01 00:00:00|2023-03-31 00:00:00|      valid|                        0.0|                                    0|      0.0|             0.0|       0|             0|     NaN|           NaN|                 0|                       0|               Phase 5|                         2.0|           44228.0|\n",
      "|        6|10571503|      NaN|SEAT RING,9FFX04T...|     No|          Stock|              Spare Parts|            C|       Non-critical|           Not Repairable|    Linked to BOM|                2.0|                 Non-critical|    Yes|                                   0.0|                                 OFF|              0|PARTS,VLV & ACTUATOR|PROPRIETARY PARTS...|     Mechanical|     Mechanical|      SEAT RING|                   Mechanical|        0|120|  2|          122|              NaN|              NaN|              NaN|           NaN|         NaN|      NaN|                 NaN|          4003800.0| vendor_0|        NaN|                NaN|                NaN|        NaN|                        0.0|                                    0|      0.0|             0.0|       0|             0|     NaN|           NaN|                 0|                       0|               Phase 1|                         0.0|               0.0|\n",
      "|        7|10564079|      NaN|SUPPORT DEVICE,CA...|     No|          Stock|              Spare Parts|            B|Production critical|           Not Repairable|    Linked to BOM|           352632.0|          Production critical|    Yes|                                  12.0|                                 GTL|on PM task list|    PARTS,PLANT EQPT|PROPRIETARY PARTS...|     Mechanical|     Mechanical| SUPPORT DEVICE|                   Mechanical|        0|120| 42|          162|            190.0|            325.0|             58.0|   4.5001385E9|  08.05.2022|     11.0|                 NaN|          4003672.0| vendor_5|4.6000036E9|2021-03-21 00:00:00|2024-03-20 00:00:00|      valid|                        0.0|                                    0|      0.0|             0.0|       0|             0|     NaN|           NaN|                 0|                       0|                     0|                         0.0|               0.0|\n",
      "|        8|10617643|      NaN|ACTVT CARBON,CPL,...|     No|      Non-stock|              Spare Parts|            C|       Non-critical|           Not Repairable|    Linked to BOM|           324000.0|                 Non-critical|    Yes|                                   0.0|                             WTR;UTL|              0|    ACTIVATED CARBON|    ACTIVATED CARBON|      Chemicals|      Chemicals|   ACTVT CARBON|                          CCG|        0|102| 38|          140|              NaN|              NaN|              NaN|   4.5000397E9|  23.04.2014|      NaN|                 NaN|                NaN| vendor_6|        NaN|                NaN|                NaN|        NaN|                    64500.0|                    0,488038277511962|      0.0|         51000.0|       0|             0|     NaN|           NaN|                 0|                       0|               Phase 2|                         0.0|               0.0|\n",
      "|        9|10563898|      NaN|TUBE ASSY,33099-C...|     No|          Stock|              Spare Parts|            B|Production critical|           Not Repairable|    Linked to BOM|              624.0|          Production critical|    Yes|                                   1.0|                                 LPU|              0|    PARTS,PLANT EQPT|PROPRIETARY PARTS...|     Mechanical|     Mechanical|      TUBE ASSY|                   Mechanical|        0|254| 42|          296|            153.0|            153.0|            153.0|   4.5000919E9|  30.08.2018|      1.0|                 NaN|          4004231.0| vendor_7|4.6000026E9|2015-11-01 00:00:00|2020-05-31 00:00:00|    expired|                        0.0|                                    0|      0.0|             0.0|       0|             0|     NaN|           NaN|                 0|                       0|               Phase 4|                         0.0|               0.0|\n",
      "|       10|10651588|      NaN|VLV,RLF,CONSOLID,...|     No|      Non-stock|              Spare Parts|            A|    Safety critical|           Not Repairable|    Linked to BOM|               18.0|              Safety critical|    Yes|                                  18.0|                                 GTL|              0|   VLV,SAFETY RELIEF| VALVE,SAFETY RELIEF|     Mechanical|     Mechanical|            VLV|                   Mechanical|  OSR-SCE|576| 14|          590|              NaN|              NaN|              NaN|   4.5000448E9|  01.09.2014|      NaN|                 NaN|          4003277.0| vendor_3|        NaN|                NaN|                NaN|        NaN|                        0.0|                                    0|      0.0|             0.0|       0|             0|     NaN|           NaN|                 0|                       0|                     0|                         0.0|               0.0|\n",
      "|       11|10563231|      NaN|BLADE SET,BL/9150...|     No|          Stock|              Spare Parts|            B|Production critical|           Not Repairable|    Linked to BOM|               84.0|          Production critical|    Yes|                                  14.0|                                 WTR|              0|    PARTS,PLANT EQPT|PROPRIETARY PARTS...|     Mechanical|     Mechanical|      BLADE SET|                   Mechanical|        0| 35| 42|           77|            156.0|            186.0|            132.0|   4.5001329E9|  03.01.2022|      3.0|Review LT with Ve...|          4002651.0| vendor_8|4.6000036E9|2021-06-01 00:00:00|2024-05-31 00:00:00|      valid|                        0.0|                                    0|      0.0|             0.0|       0|             0|     NaN|           NaN|                 0|                       0|               Phase 4|                         0.0|               0.0|\n",
      "|       12|10646468|      NaN|MOLECULAR SIEVE,L...|     No|      Non-stock|              Spare Parts|            C|       Non-critical|           Not Repairable|Not linked to BOM|                NaN|                          NaN|     No|                                   NaN|                                 NaN|              0|    PARTS,PLANT EQPT|PROPRIETARY PARTS...|     Mechanical|     Mechanical|MOLECULAR SIEVE|                   Mechanical|        0| 92| 42|          134|              NaN|              NaN|              NaN|   4.5000735E9|  15.11.2016|      NaN|                 NaN|          4003323.0| vendor_9|        NaN|                NaN|                NaN|        NaN|                     1099.0|                    0,848424212106053|      0.0|           597.0|       0|             0|     NaN|           NaN|                 0|                       0|               Phase 5|                         0.0|               0.0|\n",
      "|       13|10564043|      NaN|PLATE,FLOW,G9072F...|     No|          Stock|              Spare Parts|            B|Production critical|           Not Repairable|    Linked to BOM|             2915.0|          Production critical|    Yes|                                   7.0|                                 FGP|              0|    PARTS,PLANT EQPT|PROPRIETARY PARTS...|     Mechanical|     Mechanical|          PLATE|                   Mechanical|        0|127| 42|          169|              NaN|              NaN|              NaN|   4.5000305E9|  27.05.2013|      NaN|                 NaN|          4002922.0|vendor_10|        NaN|                NaN|                NaN|        NaN|                        0.0|                                    0|      0.0|             0.0|       0|             0|     NaN|           NaN|                 0|                       0|               Phase 4|                         0.0|               0.0|\n",
      "|       14|10564046|      NaN|PLATE,FLOW,G9072F...|     No|          Stock|              Spare Parts|            A|    Safety critical|           Not Repairable|    Linked to BOM|              324.0|              Safety critical|    Yes|                                   2.0|                                 FGP|              0|    PARTS,PLANT EQPT|PROPRIETARY PARTS...|     Mechanical|     Mechanical|          PLATE|                   Mechanical|        0|127| 42|          169|              NaN|              NaN|              NaN|   4.5000356E9|  28.11.2013|      NaN|                 NaN|          4002922.0|vendor_10|        NaN|                NaN|                NaN|        NaN|                        0.0|                                    0|      0.0|             0.0|       0|             0|     NaN|           NaN|                 0|                       0|                     0|                         0.0|               0.0|\n",
      "|       15|10658227|      NaN|MOTOR,ABB,AMB560L...|     No|      Non-stock|              Spare Parts|            B|Production critical|           Not Repairable|    Linked to BOM|                8.0|          Production critical|    Yes|                                   8.0|                                 UTL|              0|      MOTOR,ELECTRIC|     MOTOR, ELECTRIC|     Electrical|     Electrical|          MOTOR|                   Electrical|        0|120| 42|          162|              NaN|              NaN|              NaN|   4.5001426E9|  16.08.2022|      NaN|                 NaN|          4002471.0|vendor_11|        NaN|                NaN|                NaN|        NaN|                        0.0|                                    0|      0.0|             0.0|       0|             0|     NaN|           NaN|                 0|                       0|                     0|                         0.0|               0.0|\n",
      "|       16|10561474|      NaN|PISTON RING,2366....|     No|          Stock|              Spare Parts|            A|    Safety critical|           Not Repairable|    Linked to BOM|               24.0|              Safety critical|    Yes|                                   4.0|                                 LPU|on PM task list|    PARTS,COMPRESSOR|PROPRIETARY PARTS...|       Rotating|       Rotating|    PISTON RING|                     Rotating|        0| 98| 51|          149|            124.0|            181.0|             80.0|   4.5001452E9|  14.10.2022|      8.0|                 NaN|          4002455.0|vendor_12|4.6000036E9|2022-02-03 00:00:00|2023-12-31 00:00:00|      valid|                        0.0|                    0,313432835820895|      0.0|            18.0|       0|             0|     NaN|           NaN|                 0|                       0|                     0|                         0.0|               0.0|\n",
      "|       17|10552521|      NaN|ELEMENT,CONICAL,P...|     No|      Non-stock|              Spare Parts|            C|       Non-critical|           Not Repairable|    Linked to BOM|             3264.0|                 Non-critical|    Yes|                                   0.0|                                 ASU|              0|    PARTS,PLANT EQPT|PROPRIETARY PARTS...|     Mechanical|     Mechanical|        ELEMENT|                   Mechanical|        0|150| 42|          192|              NaN|              NaN|              NaN|   4.5000622E9|  21.10.2015|      NaN|                 NaN|          4002723.0|vendor_13|        NaN|                NaN|                NaN|        NaN|                        0.0|                    0,133350730688935|      0.0|           375.0|       0|             0|     NaN|           NaN|                 0|                       0|                     0|                         0.0|               0.0|\n",
      "|       18|10568054|      NaN|THERMOCOUPLE,OKAZ...|     No|          Stock|              Spare Parts|            A|    Safety critical|           Not Repairable|    Linked to BOM|              960.0|              Safety critical|    Yes|                                 960.0|                                 GTL|on PM task list|     INSTR,TEMP MEAS|INSTRUMENT, TEMPE...|Instrumentation|Instrumentation|   THERMOCOUPLE|              Instrumentation|        0|280| 46|          326|            227.0|            259.0|            147.0|   4.5001492E9|  28.12.2022|     15.0|                 NaN|          4002515.0|vendor_14|4.6000036E9|2021-10-07 00:00:00|2023-10-06 00:00:00|      valid|                        0.0|                    0,010989010989011|      0.0|             0.0|       0|             0|     NaN|           NaN|                 0|                       0|               Phase 4|                         0.0|               0.0|\n",
      "|       19|10617642|      NaN|ACTVT CARBON,GALE...|     No|      Non-stock|              Spare Parts|            C|       Non-critical|           Not Repairable|Not linked to BOM|                NaN|                          NaN|     No|                                   NaN|                                 NaN|              0|    ACTIVATED CARBON|    ACTIVATED CARBON|      Chemicals|      Chemicals|   ACTVT CARBON|                          CCG|        0|223|  5|          228|              NaN|              NaN|              NaN|    4.500011E9|  05.05.2011|      NaN|                 NaN|          4004302.0|vendor_15|        NaN|                NaN|                NaN|        NaN|                     4000.0|                                    1|      0.0|          4000.0|       0|             0|     NaN|           NaN|                 0|                       0|               Phase 2|                         0.0|               0.0|\n",
      "|       20|10552467|      NaN|ELEMENT,W/GASKET,...|     No|          Stock|              Spare Parts|            A|    Safety critical|           Not Repairable|    Linked to BOM|              100.0|              Safety critical|    Yes|                                   4.0|                                 FGP|              0|    PARTS,PLANT EQPT|PROPRIETARY PARTS...|     Mechanical|     Mechanical|        ELEMENT|                   Mechanical|        0|120| 46|          166|            175.0|            244.0|            119.0|   4.5001421E9|  08.08.2022|     13.0|                 NaN|          4004434.0| vendor_7|        NaN|                NaN|                NaN|        NaN|                        0.0|                    0,617647058823529|      0.0|            96.0|       0|             0|     NaN|           NaN|                 0|                       0|                     0|                         0.0|               0.0|\n",
      "+---------+--------+---------+--------------------+-------+---------------+-------------------------+-------------+-------------------+-------------------------+-----------------+-------------------+-----------------------------+-------+--------------------------------------+------------------------------------+---------------+--------------------+--------------------+---------------+---------------+---------------+-----------------------------+---------+---+---+-------------+-----------------+-----------------+-----------------+--------------+------------+---------+--------------------+-------------------+---------+-----------+-------------------+-------------------+-----------+---------------------------+-------------------------------------+---------+----------------+--------+--------------+--------+--------------+------------------+------------------------+----------------------+----------------------------+------------------+\n",
      "only showing top 20 rows\n",
      "\n"
     ]
    }
   ],
   "source": [
    "df.show()"
   ]
  },
  {
   "cell_type": "markdown",
   "metadata": {
    "id": "ypvAUKVF6iqY"
   },
   "source": [
    "# Data Transformation"
   ]
  },
  {
   "cell_type": "markdown",
   "metadata": {
    "id": "QRmMQGrk8QJ4"
   },
   "source": [
    "## Clean and filter data"
   ]
  },
  {
   "cell_type": "code",
   "execution_count": 13,
   "metadata": {
    "executionInfo": {
     "elapsed": 2109,
     "status": "ok",
     "timestamp": 1708875642880,
     "user": {
      "displayName": "Miguel Alves",
      "userId": "04559027817788476585"
     },
     "user_tz": 0
    },
    "id": "dkwl_mVshxTw"
   },
   "outputs": [],
   "source": [
    "df2 = df.drop(*['Mesc_code', 'PM_task_list', 'LT_accuracy', 'Schedule_Breaker', 'SOLD_Qty', 'SOLD_Value_USD', 'row_names', 'Dormant_Review_History', 'Number_of_reviews_in_tracker', 'Latest_review_Date', 'Column1'])\n",
    "df2 = df2.filter(F.col('Deleted') == 'No')\n",
    "df2 = df2.withColumn('DISP_Qty', expr(\"CAST(REPLACE(`DISP_Qty`, ',', '.') AS FLOAT)\")) \\\n",
    "                         .withColumn('Consumed_under_High_critical_WO_share', F.expr(\"CAST(REPLACE(`Consumed_under_High_critical_WO_share`, ',', '.') AS FLOAT)\")) \\\n",
    "                         .withColumn('DISP_Value_USD', F.expr(\"CAST(REPLACE(`DISP_Value_USD`, ',', '.') AS FLOAT)\")) \\\n",
    "                         .withColumn('Total_Disposal_Qty', F.expr(\"CAST(REPLACE(`Total_Disposal_Qty`, ',', '.') AS FLOAT)\")) \\\n",
    "                         .withColumn('Final_Disposal_Value_USD', F.expr(\"CAST(REPLACE(`Final_Disposal_Value_USD`, ',', '.') AS FLOAT)\")) \\\n",
    "                         .withColumn('OA', F.col('OA').cast(StringType())) \\\n",
    "                         .withColumn('MM_code', F.col('MM_code').cast(StringType())) \\\n",
    "                         .withColumn('Last_PO_number', F.col('Last_PO_number').cast(StringType())) \\\n",
    "                         .withColumn('Manufacturer_number', F.col('Manufacturer_number').cast(StringType()))\n",
    "df2 = df2.filter(F.col('MM_Group') != '')\n",
    "\n",
    "cols_to_round = [col_name for col_name, data_type in df2.dtypes if data_type in ['int', 'double']]\n",
    "df2 = df2.select([round(col(col_name), 2).alias(col_name) if col_name in cols_to_round else col_name for col_name in df2.columns])\n",
    "\n",
    "\n",
    "df2 = (\n",
    "    df2\n",
    "    .withColumn('ABC_indicator', F.when(df2['ABC_indicator'] == '', 'D').otherwise(df2['ABC_indicator']))\n",
    "    .withColumn('Criticality_based_on_Location', F.when(df2['Criticality_based_on_Location'] == '', 'Not Specified').otherwise(df2['Criticality_based_on_Location']))\n",
    "    )\n",
    "\n",
    "# Define a window specification\n",
    "window_spec = Window.partitionBy('Vendor', 'Category', 'Material_type_description')\n",
    "# Fill missing values with mean within groups\n",
    "df2 = df2.withColumn('AVG_historical_LT_filled', F.when((F.col('AVG_historical_LT').isNull()) | (F.col(\"AVG_historical_LT\")=='NaN') | (F.col(\"AVG_historical_LT\")==''), F.avg('AVG_historical_LT').over(window_spec)).otherwise(F.col('AVG_historical_LT')))\n",
    "# Fill remaining missing values with overall mean\n",
    "df2 = df2.withColumn('AVG_historical_LT_filled', F.coalesce(F.col('AVG_historical_LT_filled'), F.avg('AVG_historical_LT').over(Window.partitionBy())))\n",
    "df2 = df2.drop(\"AVG_historical_LT\")\n",
    "df2 = df2.withColumnRenamed(\"AVG_historical_LT_filled\", \"AVG_historical_LT\")\n",
    "\n",
    "df2 = (\n",
    "    df2\n",
    "    .withColumn('BOM_Linkage', F.when(df2['BOM_Linkage'] == 'Linked to BOM', 1).otherwise(0).cast(IntegerType()))\n",
    "    .withColumn('Stock_Non_stock', F.when(df2['Stock_Non_stock'] == 'Stock', 1).otherwise(0).cast(IntegerType()))\n",
    "    )\n",
    "\n",
    "df2 = df2.withColumn('Vendor', F.expr(\"dense_rank() OVER (ORDER BY Vendor)\").cast(DoubleType()))\n",
    "\n"
   ]
  },
  {
   "cell_type": "markdown",
   "metadata": {
    "id": "d71FFDXZ8TiM"
   },
   "source": [
    "## Encode categorical columns"
   ]
  },
  {
   "cell_type": "code",
   "execution_count": 14,
   "metadata": {
    "colab": {
     "base_uri": "https://localhost:8080/"
    },
    "executionInfo": {
     "elapsed": 271,
     "status": "ok",
     "timestamp": 1708875646102,
     "user": {
      "displayName": "Miguel Alves",
      "userId": "04559027817788476585"
     },
     "user_tz": 0
    },
    "id": "G5kQkMBXhxRM",
    "outputId": "ea8cfea6-6771-465b-fa67-100dfd26925d"
   },
   "outputs": [
    {
     "name": "stdout",
     "output_type": "stream",
     "text": [
      "['Material_type_description', 'Category', 'Criticality', 'Manufacturer_number', 'ABC_indicator', 'Repairable_Not_Repairable', 'Deleted', 'Criticality_based_on_Location']\n"
     ]
    }
   ],
   "source": [
    "# Extract categorical columns\n",
    "cat_cols = [col_name for col_name, dtype in df2.dtypes if dtype == 'string']\n",
    "\n",
    "# Define columns to drop\n",
    "drop_cat_cols = ['MM_code', 'Short_description', 'Deleted.', 'Column1', 'Plant_section_of_installed_equipment',\n",
    "                 'PSGC_Descrp_1', 'PSGC_Descrp_2', 'Disciplines_for_Stock_changes', 'OSR', 'Last_PO_number',\n",
    "                 'Last_PO_Date', 'Manufacturer_.number', 'OA', 'OA_start_date', 'OA_end_date', 'OA_validity',\n",
    "                 'Discipline', 'MM_Group']\n",
    "\n",
    "# Remove columns to drop from categorical columns\n",
    "cat_cols = list(set(cat_cols) - set(drop_cat_cols))\n",
    "\n",
    "# Print the resulting categorical columns\n",
    "print(cat_cols)\n"
   ]
  },
  {
   "cell_type": "code",
   "execution_count": 15,
   "metadata": {
    "colab": {
     "base_uri": "https://localhost:8080/"
    },
    "executionInfo": {
     "elapsed": 42348,
     "status": "ok",
     "timestamp": 1708875690934,
     "user": {
      "displayName": "Miguel Alves",
      "userId": "04559027817788476585"
     },
     "user_tz": 0
    },
    "id": "t-FQ1-fXhxPJ",
    "outputId": "e4ad08a2-f078-4db7-93b9-e7388ed5589d"
   },
   "outputs": [
    {
     "name": "stdout",
     "output_type": "stream",
     "text": [
      "+--------+--------------------+---------------+-----------+-------------------+--------------------------------------+------------------------------------+--------------------+--------------------+----------+--------+-----------------------------+---+---+---+-------------+-----------------+-----------------+--------------+------------+---------+------+---+-------------+-----------+-----------+---------------------------+-------------------------------------+---------+--------+--------------+------------------+------------------------+-----------------+-------------------------------+--------------+-----------------+-------------------------+-------------------+-------------------------------+-------------+-----------------------------------+\n",
      "| MM_code|   Short_description|Stock_Non_stock|BOM_Linkage|Total_Installed_Qty|Installed_QTY_under_Critical_Equipment|Plant_section_of_installed_equipment|       PSGC_Descrp_1|       PSGC_Descrp_2|Discipline|MM_Group|Disciplines_for_Stock_changes|OSR|PDT| GR|Sap_lead_time|MAX_historical_LT|MIN_historical_LT|Last_PO_number|Last_PO_Date|PO_number|Vendor| OA|OA_start_date|OA_end_date|OA_validity|Consumption_blank_2010_2021|Consumed_under_High_critical_WO_share|Emergency|DISP_Qty|DISP_Value_USD|Total_Disposal_Qty|Final_Disposal_Value_USD|AVG_historical_LT|Material_type_description_index|Category_index|Criticality_index|Manufacturer_number_index|ABC_indicator_index|Repairable_Not_Repairable_index|Deleted_index|Criticality_based_on_Location_index|\n",
      "+--------+--------------------+---------------+-----------+-------------------+--------------------------------------+------------------------------------+--------------------+--------------------+----------+--------+-----------------------------+---+---+---+-------------+-----------------+-----------------+--------------+------------+---------+------+---+-------------+-----------+-----------+---------------------------+-------------------------------------+---------+--------+--------------+------------------+------------------------+-----------------+-------------------------------+--------------+-----------------+-------------------------+-------------------+-------------------------------+-------------+-----------------------------------+\n",
      "|10525452|ROTOR FOR STEAM T...|              0|          0|                NaN|                                   NaN|                                 NaN|TURB, STEAM, API61\\O|v.29_TURBINES, ST...|         0|       0|                            0|  0|  0| 42|           42|              NaN|              NaN|           NaN|         NaN|      NaN|   1.0|NaN|          NaN|        NaN|        NaN|                        0.0|                                  0.0|      0.0|     0.0|           0.0|               0.0|                     0.0|              NaN|                            2.0|          18.0|              3.0|                      0.0|                3.0|                            0.0|          0.0|                                0.0|\n",
      "|10525447|ROTOR FOR STEAM T...|              0|          0|                NaN|                                   NaN|                                 NaN|TURB, STEAM, API61\\O|v.29_TURBINES, ST...|         0|       0|                            0|  0|  0| 42|           42|              NaN|              NaN|           NaN|         NaN|      NaN|   1.0|NaN|          NaN|        NaN|        NaN|                        0.0|                                  0.0|      0.0|     0.0|           0.0|               0.0|                     0.0|              NaN|                            2.0|          18.0|              3.0|                      0.0|                3.0|                            0.0|          0.0|                                0.0|\n",
      "|10727739|GEAR BOX ASSY,SK5...|              0|          0|                1.0|                                   0.0|                                 ETP|GEAR,PROPULSION SYST|GEARS, PROPULSION...|         0|       0|                            0|  0|120| 30|          150|              NaN|              NaN|           NaN|         NaN|      NaN|   1.0|NaN|          NaN|        NaN|        NaN|                        0.0|                                  0.0|      0.0|     0.0|           0.0|               0.0|                     0.0|              NaN|                            0.0|          18.0|              0.0|                    125.0|                0.0|                            0.0|          0.0|                                1.0|\n",
      "|10734055|TUBE,FINNED,CS,SA...|              0|          0|                NaN|                                   NaN|                                 NaN|                   0|                   0|         0|       0|                            0|  0|120| 30|          150|              NaN|              NaN|           NaN|         NaN|      NaN|   1.0|NaN|          NaN|        NaN|        NaN|                        NaN|                                  0.0|      NaN|     0.0|           0.0|               0.0|                     0.0|              NaN|                            0.0|          18.0|              1.0|                      0.0|                1.0|                            0.0|          0.0|                                0.0|\n",
      "|10734453|SLEEVE,PIPE,SHRIN...|              0|          0|                NaN|                                   NaN|                                 NaN|                   0|                   0|         0|       0|                            0|  0| 60| 30|           90|              NaN|              NaN|           NaN|         NaN|      NaN|   1.0|NaN|          NaN|        NaN|        NaN|                        NaN|                                  0.0|      NaN|     0.0|           0.0|               0.0|                     0.0|              NaN|                            0.0|          18.0|              0.0|                      0.0|                0.0|                            0.0|          0.0|                                0.0|\n",
      "+--------+--------------------+---------------+-----------+-------------------+--------------------------------------+------------------------------------+--------------------+--------------------+----------+--------+-----------------------------+---+---+---+-------------+-----------------+-----------------+--------------+------------+---------+------+---+-------------+-----------+-----------+---------------------------+-------------------------------------+---------+--------+--------------+------------------+------------------------+-----------------+-------------------------------+--------------+-----------------+-------------------------+-------------------+-------------------------------+-------------+-----------------------------------+\n",
      "only showing top 5 rows\n",
      "\n"
     ]
    }
   ],
   "source": [
    "# Apply StringIndexer for categorical columns\n",
    "indexers = [StringIndexer(inputCol=col, outputCol=col+\"_index\", handleInvalid=\"keep\") for col in cat_cols]\n",
    "indexer_pipeline = Pipeline(stages=indexers)\n",
    "df_indexed = indexer_pipeline.fit(df2).transform(df2)\n",
    "df_indexed = df_indexed.drop(*cat_cols)\n",
    "df_indexed.show(5)"
   ]
  },
  {
   "cell_type": "markdown",
   "metadata": {
    "id": "g3VUBL7a8YFK"
   },
   "source": [
    "## Create target column"
   ]
  },
  {
   "cell_type": "code",
   "execution_count": 16,
   "metadata": {
    "colab": {
     "base_uri": "https://localhost:8080/"
    },
    "executionInfo": {
     "elapsed": 11457,
     "status": "ok",
     "timestamp": 1708875719412,
     "user": {
      "displayName": "Miguel Alves",
      "userId": "04559027817788476585"
     },
     "user_tz": 0
    },
    "id": "zgIKTxO7hxMr",
    "outputId": "31780015-8248-46ab-fe52-b21246687644"
   },
   "outputs": [
    {
     "name": "stdout",
     "output_type": "stream",
     "text": [
      "+--------+--------------------+---------------+-----------+-------------------+--------------------------------------+------------------------------------+--------------------+--------------------+----------+--------+-----------------------------+---+---+---+-------------+-----------------+-----------------+--------------+------------+---------+------+---+-------------+-----------+-----------+---------------------------+-------------------------------------+---------+--------+--------------+------------------+------------------------+-----------------+-------------------------------+--------------+-----------------+-------------------------+-------------------+-------------------------------+-------------+-----------------------------------+---------------+------+\n",
      "| MM_code|   Short_description|Stock_Non_stock|BOM_Linkage|Total_Installed_Qty|Installed_QTY_under_Critical_Equipment|Plant_section_of_installed_equipment|       PSGC_Descrp_1|       PSGC_Descrp_2|Discipline|MM_Group|Disciplines_for_Stock_changes|OSR|PDT| GR|Sap_lead_time|MAX_historical_LT|MIN_historical_LT|Last_PO_number|Last_PO_Date|PO_number|Vendor| OA|OA_start_date|OA_end_date|OA_validity|Consumption_blank_2010_2021|Consumed_under_High_critical_WO_share|Emergency|DISP_Qty|DISP_Value_USD|Total_Disposal_Qty|Final_Disposal_Value_USD|AVG_historical_LT|Material_type_description_index|Category_index|Criticality_index|Manufacturer_number_index|ABC_indicator_index|Repairable_Not_Repairable_index|Deleted_index|Criticality_based_on_Location_index|Time_Difference|target|\n",
      "+--------+--------------------+---------------+-----------+-------------------+--------------------------------------+------------------------------------+--------------------+--------------------+----------+--------+-----------------------------+---+---+---+-------------+-----------------+-----------------+--------------+------------+---------+------+---+-------------+-----------+-----------+---------------------------+-------------------------------------+---------+--------+--------------+------------------+------------------------+-----------------+-------------------------------+--------------+-----------------+-------------------------+-------------------+-------------------------------+-------------+-----------------------------------+---------------+------+\n",
      "|10525452|ROTOR FOR STEAM T...|              0|          0|                NaN|                                   NaN|                                 NaN|TURB, STEAM, API61\\O|v.29_TURBINES, ST...|         0|       0|                            0|  0|  0| 42|           42|              NaN|              NaN|           NaN|         NaN|      NaN|   1.0|NaN|          NaN|        NaN|        NaN|                        0.0|                                  0.0|      0.0|     0.0|           0.0|               0.0|                     0.0|              NaN|                            2.0|          18.0|              3.0|                      0.0|                3.0|                            0.0|          0.0|                                0.0|            NaN|     1|\n",
      "|10525447|ROTOR FOR STEAM T...|              0|          0|                NaN|                                   NaN|                                 NaN|TURB, STEAM, API61\\O|v.29_TURBINES, ST...|         0|       0|                            0|  0|  0| 42|           42|              NaN|              NaN|           NaN|         NaN|      NaN|   1.0|NaN|          NaN|        NaN|        NaN|                        0.0|                                  0.0|      0.0|     0.0|           0.0|               0.0|                     0.0|              NaN|                            2.0|          18.0|              3.0|                      0.0|                3.0|                            0.0|          0.0|                                0.0|            NaN|     1|\n",
      "|10727739|GEAR BOX ASSY,SK5...|              0|          0|                1.0|                                   0.0|                                 ETP|GEAR,PROPULSION SYST|GEARS, PROPULSION...|         0|       0|                            0|  0|120| 30|          150|              NaN|              NaN|           NaN|         NaN|      NaN|   1.0|NaN|          NaN|        NaN|        NaN|                        0.0|                                  0.0|      0.0|     0.0|           0.0|               0.0|                     0.0|              NaN|                            0.0|          18.0|              0.0|                    125.0|                0.0|                            0.0|          0.0|                                1.0|            NaN|     1|\n",
      "|10734055|TUBE,FINNED,CS,SA...|              0|          0|                NaN|                                   NaN|                                 NaN|                   0|                   0|         0|       0|                            0|  0|120| 30|          150|              NaN|              NaN|           NaN|         NaN|      NaN|   1.0|NaN|          NaN|        NaN|        NaN|                        NaN|                                  0.0|      NaN|     0.0|           0.0|               0.0|                     0.0|              NaN|                            0.0|          18.0|              1.0|                      0.0|                1.0|                            0.0|          0.0|                                0.0|            NaN|     1|\n",
      "|10734453|SLEEVE,PIPE,SHRIN...|              0|          0|                NaN|                                   NaN|                                 NaN|                   0|                   0|         0|       0|                            0|  0| 60| 30|           90|              NaN|              NaN|           NaN|         NaN|      NaN|   1.0|NaN|          NaN|        NaN|        NaN|                        NaN|                                  0.0|      NaN|     0.0|           0.0|               0.0|                     0.0|              NaN|                            0.0|          18.0|              0.0|                      0.0|                0.0|                            0.0|          0.0|                                0.0|            NaN|     1|\n",
      "+--------+--------------------+---------------+-----------+-------------------+--------------------------------------+------------------------------------+--------------------+--------------------+----------+--------+-----------------------------+---+---+---+-------------+-----------------+-----------------+--------------+------------+---------+------+---+-------------+-----------+-----------+---------------------------+-------------------------------------+---------+--------+--------------+------------------+------------------------+-----------------+-------------------------------+--------------+-----------------+-------------------------+-------------------+-------------------------------+-------------+-----------------------------------+---------------+------+\n",
      "only showing top 5 rows\n",
      "\n"
     ]
    }
   ],
   "source": [
    "df_indexed = df_indexed.withColumn('Time_Difference', F.col('Sap_lead_time') - F.col('AVG_historical_LT'))\n",
    "med = df_indexed.approxQuantile('Time_Difference', [0.5], 0.05)[0]\n",
    "df_indexed = df_indexed.withColumn('target', F.when(F.col('Time_Difference') >= med, 1).otherwise(0))\n",
    "df_indexed.show(5)"
   ]
  },
  {
   "cell_type": "markdown",
   "metadata": {
    "id": "WO27WXjA8d-7"
   },
   "source": [
    "## Tokenize text data"
   ]
  },
  {
   "cell_type": "code",
   "execution_count": 17,
   "metadata": {
    "colab": {
     "base_uri": "https://localhost:8080/"
    },
    "executionInfo": {
     "elapsed": 8372,
     "status": "ok",
     "timestamp": 1708875730353,
     "user": {
      "displayName": "Miguel Alves",
      "userId": "04559027817788476585"
     },
     "user_tz": 0
    },
    "id": "9d2SbNq9pK86",
    "outputId": "edcd5a72-8458-40e5-8692-065dbe347ccb"
   },
   "outputs": [
    {
     "name": "stdout",
     "output_type": "stream",
     "text": [
      "+--------+--------------------+---------------+-----------+-------------------+--------------------------------------+------------------------------------+--------------------+--------------------+----------+--------+-----------------------------+---+-----------------+-----------------+--------------+------------+---------+------+---+-------------+-----------+-----------+---------------------------+-------------------------------------+---------+--------+--------------+------------------+------------------------+-------------------------------+--------------+-----------------+-------------------------+-------------------+-------------------------------+-------------+-----------------------------------+------+--------------------+\n",
      "| MM_code|   Short_description|Stock_Non_stock|BOM_Linkage|Total_Installed_Qty|Installed_QTY_under_Critical_Equipment|Plant_section_of_installed_equipment|       PSGC_Descrp_1|       PSGC_Descrp_2|Discipline|MM_Group|Disciplines_for_Stock_changes|OSR|MAX_historical_LT|MIN_historical_LT|Last_PO_number|Last_PO_Date|PO_number|Vendor| OA|OA_start_date|OA_end_date|OA_validity|Consumption_blank_2010_2021|Consumed_under_High_critical_WO_share|Emergency|DISP_Qty|DISP_Value_USD|Total_Disposal_Qty|Final_Disposal_Value_USD|Material_type_description_index|Category_index|Criticality_index|Manufacturer_number_index|ABC_indicator_index|Repairable_Not_Repairable_index|Deleted_index|Criticality_based_on_Location_index|target|              Tokens|\n",
      "+--------+--------------------+---------------+-----------+-------------------+--------------------------------------+------------------------------------+--------------------+--------------------+----------+--------+-----------------------------+---+-----------------+-----------------+--------------+------------+---------+------+---+-------------+-----------+-----------+---------------------------+-------------------------------------+---------+--------+--------------+------------------+------------------------+-------------------------------+--------------+-----------------+-------------------------+-------------------+-------------------------------+-------------+-----------------------------------+------+--------------------+\n",
      "|10525452|ROTOR FOR STEAM T...|              0|          0|                NaN|                                   NaN|                                 NaN|TURB, STEAM, API61\\O|v.29_TURBINES, ST...|         0|       0|                            0|  0|              NaN|              NaN|           NaN|         NaN|      NaN|   1.0|NaN|          NaN|        NaN|        NaN|                        0.0|                                  0.0|      0.0|     0.0|           0.0|               0.0|                     0.0|                            2.0|          18.0|              3.0|                      0.0|                3.0|                            0.0|          0.0|                                0.0|     1|[v.29_turbines,, ...|\n",
      "|10525447|ROTOR FOR STEAM T...|              0|          0|                NaN|                                   NaN|                                 NaN|TURB, STEAM, API61\\O|v.29_TURBINES, ST...|         0|       0|                            0|  0|              NaN|              NaN|           NaN|         NaN|      NaN|   1.0|NaN|          NaN|        NaN|        NaN|                        0.0|                                  0.0|      0.0|     0.0|           0.0|               0.0|                     0.0|                            2.0|          18.0|              3.0|                      0.0|                3.0|                            0.0|          0.0|                                0.0|     1|[v.29_turbines,, ...|\n",
      "|10727739|GEAR BOX ASSY,SK5...|              0|          0|                1.0|                                   0.0|                                 ETP|GEAR,PROPULSION SYST|GEARS, PROPULSION...|         0|       0|                            0|  0|              NaN|              NaN|           NaN|         NaN|      NaN|   1.0|NaN|          NaN|        NaN|        NaN|                        0.0|                                  0.0|      0.0|     0.0|           0.0|               0.0|                     0.0|                            0.0|          18.0|              0.0|                    125.0|                0.0|                            0.0|          0.0|                                1.0|     1|[gears,, propulsi...|\n",
      "|10734055|TUBE,FINNED,CS,SA...|              0|          0|                NaN|                                   NaN|                                 NaN|                   0|                   0|         0|       0|                            0|  0|              NaN|              NaN|           NaN|         NaN|      NaN|   1.0|NaN|          NaN|        NaN|        NaN|                        NaN|                                  0.0|      NaN|     0.0|           0.0|               0.0|                     0.0|                            0.0|          18.0|              1.0|                      0.0|                1.0|                            0.0|          0.0|                                0.0|     1|                 [0]|\n",
      "|10734453|SLEEVE,PIPE,SHRIN...|              0|          0|                NaN|                                   NaN|                                 NaN|                   0|                   0|         0|       0|                            0|  0|              NaN|              NaN|           NaN|         NaN|      NaN|   1.0|NaN|          NaN|        NaN|        NaN|                        NaN|                                  0.0|      NaN|     0.0|           0.0|               0.0|                     0.0|                            0.0|          18.0|              0.0|                      0.0|                0.0|                            0.0|          0.0|                                0.0|     1|                 [0]|\n",
      "+--------+--------------------+---------------+-----------+-------------------+--------------------------------------+------------------------------------+--------------------+--------------------+----------+--------+-----------------------------+---+-----------------+-----------------+--------------+------------+---------+------+---+-------------+-----------+-----------+---------------------------+-------------------------------------+---------+--------+--------------+------------------+------------------------+-------------------------------+--------------+-----------------+-------------------------+-------------------+-------------------------------+-------------+-----------------------------------+------+--------------------+\n",
      "only showing top 5 rows\n",
      "\n"
     ]
    }
   ],
   "source": [
    "# Drop unnecessary columns\n",
    "drop_columns = ['Time_Difference', 'Sap_lead_time', 'PDT', 'GR', 'AVG_historical_LT']\n",
    "df_indexed = df_indexed.drop(*drop_columns)\n",
    "\n",
    "# Tokenize text column\n",
    "tokenizer = Tokenizer(inputCol=\"PSGC_Descrp_2\", outputCol=\"Tokens\")\n",
    "df_tokenized = tokenizer.transform(df_indexed)\n",
    "df_tokenized.show(5)"
   ]
  },
  {
   "cell_type": "markdown",
   "metadata": {
    "id": "LaQZC-qh8hFQ"
   },
   "source": [
    "## Word2Vec model"
   ]
  },
  {
   "cell_type": "code",
   "execution_count": 18,
   "metadata": {
    "colab": {
     "base_uri": "https://localhost:8080/"
    },
    "executionInfo": {
     "elapsed": 21670,
     "status": "ok",
     "timestamp": 1708875758559,
     "user": {
      "displayName": "Miguel Alves",
      "userId": "04559027817788476585"
     },
     "user_tz": 0
    },
    "id": "182Ov1_tpK6O",
    "outputId": "e59ed416-0e77-47bc-b692-1258b1fa2ffe"
   },
   "outputs": [
    {
     "name": "stdout",
     "output_type": "stream",
     "text": [
      "+--------+--------------------+---------------+-----------+-------------------+--------------------------------------+------------------------------------+--------------------+--------------------+----------+--------+-----------------------------+---+-----------------+-----------------+--------------+------------+---------+------+---+-------------+-----------+-----------+---------------------------+-------------------------------------+---------+--------+--------------+------------------+------------------------+-------------------------------+--------------+-----------------+-------------------------+-------------------+-------------------------------+-------------+-----------------------------------+------+--------------------+--------------------+\n",
      "| MM_code|   Short_description|Stock_Non_stock|BOM_Linkage|Total_Installed_Qty|Installed_QTY_under_Critical_Equipment|Plant_section_of_installed_equipment|       PSGC_Descrp_1|       PSGC_Descrp_2|Discipline|MM_Group|Disciplines_for_Stock_changes|OSR|MAX_historical_LT|MIN_historical_LT|Last_PO_number|Last_PO_Date|PO_number|Vendor| OA|OA_start_date|OA_end_date|OA_validity|Consumption_blank_2010_2021|Consumed_under_High_critical_WO_share|Emergency|DISP_Qty|DISP_Value_USD|Total_Disposal_Qty|Final_Disposal_Value_USD|Material_type_description_index|Category_index|Criticality_index|Manufacturer_number_index|ABC_indicator_index|Repairable_Not_Repairable_index|Deleted_index|Criticality_based_on_Location_index|target|              Tokens|  Word2VecEmbeddings|\n",
      "+--------+--------------------+---------------+-----------+-------------------+--------------------------------------+------------------------------------+--------------------+--------------------+----------+--------+-----------------------------+---+-----------------+-----------------+--------------+------------+---------+------+---+-------------+-----------+-----------+---------------------------+-------------------------------------+---------+--------+--------------+------------------+------------------------+-------------------------------+--------------+-----------------+-------------------------+-------------------+-------------------------------+-------------+-----------------------------------+------+--------------------+--------------------+\n",
      "|10525452|ROTOR FOR STEAM T...|              0|          0|                NaN|                                   NaN|                                 NaN|TURB, STEAM, API61\\O|v.29_TURBINES, ST...|         0|       0|                            0|  0|              NaN|              NaN|           NaN|         NaN|      NaN|   1.0|NaN|          NaN|        NaN|        NaN|                        0.0|                                  0.0|      0.0|     0.0|           0.0|               0.0|                     0.0|                            2.0|          18.0|              3.0|                      0.0|                3.0|                            0.0|          0.0|                                0.0|     1|[v.29_turbines,, ...|[-0.0292193206842...|\n",
      "|10525447|ROTOR FOR STEAM T...|              0|          0|                NaN|                                   NaN|                                 NaN|TURB, STEAM, API61\\O|v.29_TURBINES, ST...|         0|       0|                            0|  0|              NaN|              NaN|           NaN|         NaN|      NaN|   1.0|NaN|          NaN|        NaN|        NaN|                        0.0|                                  0.0|      0.0|     0.0|           0.0|               0.0|                     0.0|                            2.0|          18.0|              3.0|                      0.0|                3.0|                            0.0|          0.0|                                0.0|     1|[v.29_turbines,, ...|[-0.0292193206842...|\n",
      "|10727739|GEAR BOX ASSY,SK5...|              0|          0|                1.0|                                   0.0|                                 ETP|GEAR,PROPULSION SYST|GEARS, PROPULSION...|         0|       0|                            0|  0|              NaN|              NaN|           NaN|         NaN|      NaN|   1.0|NaN|          NaN|        NaN|        NaN|                        0.0|                                  0.0|      0.0|     0.0|           0.0|               0.0|                     0.0|                            0.0|          18.0|              0.0|                    125.0|                0.0|                            0.0|          0.0|                                1.0|     1|[gears,, propulsi...|[0.10085685240725...|\n",
      "|10734055|TUBE,FINNED,CS,SA...|              0|          0|                NaN|                                   NaN|                                 NaN|                   0|                   0|         0|       0|                            0|  0|              NaN|              NaN|           NaN|         NaN|      NaN|   1.0|NaN|          NaN|        NaN|        NaN|                        NaN|                                  0.0|      NaN|     0.0|           0.0|               0.0|                     0.0|                            0.0|          18.0|              1.0|                      0.0|                1.0|                            0.0|          0.0|                                0.0|     1|                 [0]|[-0.0022137146443...|\n",
      "|10734453|SLEEVE,PIPE,SHRIN...|              0|          0|                NaN|                                   NaN|                                 NaN|                   0|                   0|         0|       0|                            0|  0|              NaN|              NaN|           NaN|         NaN|      NaN|   1.0|NaN|          NaN|        NaN|        NaN|                        NaN|                                  0.0|      NaN|     0.0|           0.0|               0.0|                     0.0|                            0.0|          18.0|              0.0|                      0.0|                0.0|                            0.0|          0.0|                                0.0|     1|                 [0]|[-0.0022137146443...|\n",
      "+--------+--------------------+---------------+-----------+-------------------+--------------------------------------+------------------------------------+--------------------+--------------------+----------+--------+-----------------------------+---+-----------------+-----------------+--------------+------------+---------+------+---+-------------+-----------+-----------+---------------------------+-------------------------------------+---------+--------+--------------+------------------+------------------------+-------------------------------+--------------+-----------------+-------------------------+-------------------+-------------------------------+-------------+-----------------------------------+------+--------------------+--------------------+\n",
      "only showing top 5 rows\n",
      "\n"
     ]
    }
   ],
   "source": [
    "# Train Word2Vec model\n",
    "word2vec = Word2Vec(vectorSize=100, windowSize=5, minCount=1, inputCol=\"Tokens\", outputCol=\"Word2VecEmbeddings\")\n",
    "word2vec_model = word2vec.fit(df_tokenized)\n",
    "df_embedded = word2vec_model.transform(df_tokenized)\n",
    "df_embedded.show(5)"
   ]
  },
  {
   "cell_type": "code",
   "execution_count": 19,
   "metadata": {
    "colab": {
     "base_uri": "https://localhost:8080/"
    },
    "executionInfo": {
     "elapsed": 5676,
     "status": "ok",
     "timestamp": 1708875790627,
     "user": {
      "displayName": "Miguel Alves",
      "userId": "04559027817788476585"
     },
     "user_tz": 0
    },
    "id": "PPEvfxdhrYt1",
    "outputId": "c4940e77-0fd6-4f0d-e663-73642c568c16"
   },
   "outputs": [
    {
     "name": "stdout",
     "output_type": "stream",
     "text": [
      "+---------------+-----------+-------------------+--------------------------------------+---------+------+---------------------------+-------------------------------------+---------+--------+--------------+------------------+------------------------+-------------------------------+--------------+-----------------+-------------------------+-------------------+-------------------------------+-------------+-----------------------------------+------+--------------------+\n",
      "|Stock_Non_stock|BOM_Linkage|Total_Installed_Qty|Installed_QTY_under_Critical_Equipment|PO_number|Vendor|Consumption_blank_2010_2021|Consumed_under_High_critical_WO_share|Emergency|DISP_Qty|DISP_Value_USD|Total_Disposal_Qty|Final_Disposal_Value_USD|Material_type_description_index|Category_index|Criticality_index|Manufacturer_number_index|ABC_indicator_index|Repairable_Not_Repairable_index|Deleted_index|Criticality_based_on_Location_index|target|  Word2VecEmbeddings|\n",
      "+---------------+-----------+-------------------+--------------------------------------+---------+------+---------------------------+-------------------------------------+---------+--------+--------------+------------------+------------------------+-------------------------------+--------------+-----------------+-------------------------+-------------------+-------------------------------+-------------+-----------------------------------+------+--------------------+\n",
      "|              0|          0|                NaN|                                   NaN|      NaN|   1.0|                        0.0|                                  0.0|      0.0|     0.0|           0.0|               0.0|                     0.0|                            2.0|          18.0|              3.0|                      0.0|                3.0|                            0.0|          0.0|                                0.0|     1|[-0.0292193206842...|\n",
      "|              0|          0|                NaN|                                   NaN|      NaN|   1.0|                        0.0|                                  0.0|      0.0|     0.0|           0.0|               0.0|                     0.0|                            2.0|          18.0|              3.0|                      0.0|                3.0|                            0.0|          0.0|                                0.0|     1|[-0.0292193206842...|\n",
      "|              0|          0|                1.0|                                   0.0|      NaN|   1.0|                        0.0|                                  0.0|      0.0|     0.0|           0.0|               0.0|                     0.0|                            0.0|          18.0|              0.0|                    125.0|                0.0|                            0.0|          0.0|                                1.0|     1|[0.10085685240725...|\n",
      "|              0|          0|                NaN|                                   NaN|      NaN|   1.0|                        NaN|                                  0.0|      NaN|     0.0|           0.0|               0.0|                     0.0|                            0.0|          18.0|              1.0|                      0.0|                1.0|                            0.0|          0.0|                                0.0|     1|[-0.0022137146443...|\n",
      "|              0|          0|                NaN|                                   NaN|      NaN|   1.0|                        NaN|                                  0.0|      NaN|     0.0|           0.0|               0.0|                     0.0|                            0.0|          18.0|              0.0|                      0.0|                0.0|                            0.0|          0.0|                                0.0|     1|[-0.0022137146443...|\n",
      "+---------------+-----------+-------------------+--------------------------------------+---------+------+---------------------------+-------------------------------------+---------+--------+--------------+------------------+------------------------+-------------------------------+--------------+-----------------+-------------------------+-------------------+-------------------------------+-------------+-----------------------------------+------+--------------------+\n",
      "only showing top 5 rows\n",
      "\n"
     ]
    }
   ],
   "source": [
    "df_embedded = df_embedded.drop('Short_description', 'Deleted',\n",
    "       'Plant_section_of_installed_equipment', 'PSGC_Descrp_1',\n",
    "       'PSGC_Descrp_2', 'Discipline', 'MM_Group',\n",
    "       'Disciplines_for_Stock_changes', 'OSR', 'Last_PO_number',\n",
    "       'Last_PO_Date', 'Manufacturer_number', 'OA', 'OA_start_date',\n",
    "       'OA_end_date', 'OA_validity', 'MAX_historical_LT', 'MIN_historical_LT', 'MM_code', 'Tokens')\n",
    "df_embedded.show(5)"
   ]
  },
  {
   "cell_type": "code",
   "execution_count": 20,
   "metadata": {
    "executionInfo": {
     "elapsed": 2,
     "status": "ok",
     "timestamp": 1708875790627,
     "user": {
      "displayName": "Miguel Alves",
      "userId": "04559027817788476585"
     },
     "user_tz": 0
    },
    "id": "D_BZu6Srt7_F"
   },
   "outputs": [],
   "source": [
    "df_embedded = df_embedded.na.drop()"
   ]
  },
  {
   "cell_type": "markdown",
   "metadata": {
    "id": "SS9bo9Te8mvb"
   },
   "source": [
    "## Vectorize data"
   ]
  },
  {
   "cell_type": "code",
   "execution_count": 21,
   "metadata": {
    "colab": {
     "base_uri": "https://localhost:8080/"
    },
    "executionInfo": {
     "elapsed": 9345,
     "status": "ok",
     "timestamp": 1708875799971,
     "user": {
      "displayName": "Miguel Alves",
      "userId": "04559027817788476585"
     },
     "user_tz": 0
    },
    "id": "3IqQjKDprE9T",
    "outputId": "5bce9ea7-73dd-4021-8ae6-d9399e72a017"
   },
   "outputs": [
    {
     "name": "stdout",
     "output_type": "stream",
     "text": [
      "+---------------+-----------+-------------------+--------------------------------------+---------+------+---------------------------+-------------------------------------+---------+--------+--------------+------------------+------------------------+-------------------------------+--------------+-----------------+-------------------------+-------------------+-------------------------------+-------------+-----------------------------------+------+--------------------+--------------------+\n",
      "|Stock_Non_stock|BOM_Linkage|Total_Installed_Qty|Installed_QTY_under_Critical_Equipment|PO_number|Vendor|Consumption_blank_2010_2021|Consumed_under_High_critical_WO_share|Emergency|DISP_Qty|DISP_Value_USD|Total_Disposal_Qty|Final_Disposal_Value_USD|Material_type_description_index|Category_index|Criticality_index|Manufacturer_number_index|ABC_indicator_index|Repairable_Not_Repairable_index|Deleted_index|Criticality_based_on_Location_index|target|  Word2VecEmbeddings|            features|\n",
      "+---------------+-----------+-------------------+--------------------------------------+---------+------+---------------------------+-------------------------------------+---------+--------+--------------+------------------+------------------------+-------------------------------+--------------+-----------------+-------------------------+-------------------+-------------------------------+-------------+-----------------------------------+------+--------------------+--------------------+\n",
      "|              0|          1|               18.0|                                  18.0|      1.0|   1.0|                        0.0|                                  0.0|      0.0|     0.0|           0.0|               0.0|                     0.0|                            0.0|           1.0|              2.0|                     25.0|                2.0|                            0.0|          0.0|                                3.0|     1|[-0.3438658093412...|[0.0,1.0,18.0,18....|\n",
      "|              0|          1|                3.0|                                   0.0|      1.0|   1.0|                        0.0|                                  0.0|      0.0|     0.0|           0.0|               0.0|                     0.0|                            0.0|           1.0|              0.0|                      1.0|                0.0|                            0.0|          0.0|                                1.0|     1|[-0.3438658093412...|[0.0,1.0,3.0,0.0,...|\n",
      "|              0|          1|               18.0|                                  18.0|      1.0|   1.0|                        0.0|                                  0.0|      0.0|     0.0|           0.0|               0.0|                     0.0|                            0.0|           1.0|              2.0|                     25.0|                2.0|                            0.0|          0.0|                                3.0|     1|[-0.3438658093412...|[0.0,1.0,18.0,18....|\n",
      "|              1|          1|              114.0|                                  16.0|      1.0|   3.0|                        0.0|                           0.33333334|      0.0|     0.0|           0.0|               0.0|                     0.0|                            0.0|           3.0|              1.0|                    115.0|                1.0|                            0.0|          0.0|                                2.0|     1|[0.18529575517667...|[1.0,1.0,114.0,16...|\n",
      "|              1|          1|                6.0|                                   5.0|      2.0|   3.0|                        0.0|                                  0.0|      0.0|     0.0|           0.0|               0.0|                     0.0|                            0.0|           3.0|              1.0|                    115.0|                1.0|                            0.0|          0.0|                                2.0|     1|[0.08166166037941...|[1.0,1.0,6.0,5.0,...|\n",
      "+---------------+-----------+-------------------+--------------------------------------+---------+------+---------------------------+-------------------------------------+---------+--------+--------------+------------------+------------------------+-------------------------------+--------------+-----------------+-------------------------+-------------------+-------------------------------+-------------+-----------------------------------+------+--------------------+--------------------+\n",
      "only showing top 5 rows\n",
      "\n"
     ]
    }
   ],
   "source": [
    "# Assemble features into a single vector\n",
    "feature_cols = df_embedded.columns\n",
    "feature_cols.remove('target')\n",
    "assembler = VectorAssembler(inputCols=feature_cols, outputCol=\"features\")\n",
    "df_assembled = assembler.transform(df_embedded)\n",
    "df_assembled.show(5)"
   ]
  },
  {
   "cell_type": "markdown",
   "metadata": {
    "id": "2AwGAqzF8pgd"
   },
   "source": [
    "# Split data into train and test sets"
   ]
  },
  {
   "cell_type": "code",
   "execution_count": 22,
   "metadata": {
    "executionInfo": {
     "elapsed": 3,
     "status": "ok",
     "timestamp": 1708875799971,
     "user": {
      "displayName": "Miguel Alves",
      "userId": "04559027817788476585"
     },
     "user_tz": 0
    },
    "id": "jFfJPPPyrE6f"
   },
   "outputs": [],
   "source": [
    "# Split data into train and test sets\n",
    "train_df, test_df = df_assembled.randomSplit([0.8, 0.2], seed=42)"
   ]
  },
  {
   "cell_type": "markdown",
   "metadata": {
    "id": "P3p3MK2V8t5W"
   },
   "source": [
    "# Train Random Forest model"
   ]
  },
  {
   "cell_type": "code",
   "execution_count": 23,
   "metadata": {
    "executionInfo": {
     "elapsed": 48784,
     "status": "ok",
     "timestamp": 1708875848753,
     "user": {
      "displayName": "Miguel Alves",
      "userId": "04559027817788476585"
     },
     "user_tz": 0
    },
    "id": "VmxR9HUfrE24"
   },
   "outputs": [],
   "source": [
    "# Train RandomForestClassifier\n",
    "rf = RandomForestClassifier(featuresCol=\"features\", labelCol=\"target\", maxBins=3000, seed=42)\n",
    "rf_model = rf.fit(train_df)"
   ]
  },
  {
   "cell_type": "markdown",
   "metadata": {
    "id": "NJesnNaN8xzY"
   },
   "source": [
    "# Make predictions"
   ]
  },
  {
   "cell_type": "code",
   "execution_count": 24,
   "metadata": {
    "executionInfo": {
     "elapsed": 402,
     "status": "ok",
     "timestamp": 1708875849152,
     "user": {
      "displayName": "Miguel Alves",
      "userId": "04559027817788476585"
     },
     "user_tz": 0
    },
    "id": "X8BMPwyAsYWb"
   },
   "outputs": [],
   "source": [
    "# Make predictions\n",
    "predictions = rf_model.transform(test_df)"
   ]
  },
  {
   "cell_type": "markdown",
   "metadata": {
    "id": "ptdvFs4G8zsB"
   },
   "source": [
    "# Evaluate model"
   ]
  },
  {
   "cell_type": "code",
   "execution_count": 25,
   "metadata": {
    "colab": {
     "base_uri": "https://localhost:8080/"
    },
    "executionInfo": {
     "elapsed": 32673,
     "status": "ok",
     "timestamp": 1708875881823,
     "user": {
      "displayName": "Miguel Alves",
      "userId": "04559027817788476585"
     },
     "user_tz": 0
    },
    "id": "SvST9ei-vL9T",
    "outputId": "c0dd3c29-f651-47d2-a27d-fe75c57bae23"
   },
   "outputs": [
    {
     "name": "stdout",
     "output_type": "stream",
     "text": [
      "Precision: 0.6244967542398665\n",
      "Recall: 0.622602023020579\n",
      "F1 Score: 0.6221010893390084\n",
      "Accuracy: 0.622602023020579\n",
      "ROC AUC: 0.6681836681836685\n"
     ]
    }
   ],
   "source": [
    "# Evaluate\n",
    "evaluator = MulticlassClassificationEvaluator(labelCol=\"target\", predictionCol=\"prediction\", metricName=\"weightedPrecision\")\n",
    "precision = evaluator.evaluate(predictions)\n",
    "\n",
    "evaluator.setMetricName(\"weightedRecall\")\n",
    "recall = evaluator.evaluate(predictions)\n",
    "\n",
    "evaluator.setMetricName(\"weightedFMeasure\")\n",
    "f1_score = evaluator.evaluate(predictions)\n",
    "\n",
    "evaluator.setMetricName(\"accuracy\")\n",
    "accuracy = evaluator.evaluate(predictions)\n",
    "\n",
    "print(\"Precision:\", precision)\n",
    "print(\"Recall:\", recall)\n",
    "print(\"F1 Score:\", f1_score)\n",
    "print(\"Accuracy:\", accuracy)\n",
    "\n",
    "evaluator = BinaryClassificationEvaluator(labelCol=\"target\")\n",
    "roc_auc = evaluator.evaluate(predictions)\n",
    "print(\"ROC AUC:\", roc_auc)\n"
   ]
  },
  {
   "cell_type": "code",
   "execution_count": 26,
   "metadata": {
    "executionInfo": {
     "elapsed": 612,
     "status": "ok",
     "timestamp": 1708876063580,
     "user": {
      "displayName": "Miguel Alves",
      "userId": "04559027817788476585"
     },
     "user_tz": 0
    },
    "id": "UZiLPqvUvzjW"
   },
   "outputs": [],
   "source": [
    "spark.stop()"
   ]
  },
  {
   "cell_type": "code",
   "execution_count": 26,
   "metadata": {
    "executionInfo": {
     "elapsed": 2,
     "status": "ok",
     "timestamp": 1708876063957,
     "user": {
      "displayName": "Miguel Alves",
      "userId": "04559027817788476585"
     },
     "user_tz": 0
    },
    "id": "N5ta4qbJg0BI"
   },
   "outputs": [],
   "source": []
  }
 ],
 "metadata": {
  "colab": {
   "authorship_tag": "ABX9TyO4hGA3ab6Ol3ODQIcL7Vax",
   "provenance": [],
   "toc_visible": true
  },
  "kernelspec": {
   "display_name": "Python 3",
   "name": "python3"
  },
  "language_info": {
   "name": "python"
  }
 },
 "nbformat": 4,
 "nbformat_minor": 0
}
